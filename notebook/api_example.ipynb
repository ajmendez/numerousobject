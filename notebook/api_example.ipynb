{
 "cells": [
  {
   "cell_type": "code",
   "execution_count": 122,
   "metadata": {
    "collapsed": false
   },
   "outputs": [],
   "source": [
    "import os\n",
    "import sys\n",
    "sys.path.append('..')\n",
    "from pprint import pprint\n",
    "from IPython.display import Image"
   ]
  },
  {
   "cell_type": "code",
   "execution_count": 115,
   "metadata": {
    "collapsed": false
   },
   "outputs": [
    {
     "data": {
      "text/plain": [
       "<module 'numerousobject.api' from '../numerousobject/api.py'>"
      ]
     },
     "execution_count": 115,
     "metadata": {},
     "output_type": "execute_result"
    }
   ],
   "source": [
    "import numerousobject\n",
    "reload(numerousobject.api)"
   ]
  },
  {
   "cell_type": "code",
   "execution_count": 82,
   "metadata": {
    "collapsed": false
   },
   "outputs": [],
   "source": [
    "username, password = numerousobject.api.credentials()"
   ]
  },
  {
   "cell_type": "code",
   "execution_count": 127,
   "metadata": {
    "collapsed": false
   },
   "outputs": [
    {
     "name": "stdout",
     "output_type": "stream",
     "text": [
      "Logged in as blue.space@gmail.com [370897]\n"
     ]
    }
   ],
   "source": [
    "api = numerousobject.api.API(username, password)\n",
    "api.login()\n",
    "device = api.deviceinfo(1)\n",
    "alerts = api.alert(device)\n",
    "clips = api.listclips(device)"
   ]
  },
  {
   "cell_type": "code",
   "execution_count": 128,
   "metadata": {
    "collapsed": false
   },
   "outputs": [
    {
     "name": "stdout",
     "output_type": "stream",
     "text": [
      "[]\n",
      "{u'msg': [1451174400, 1451260800], u'result': {u'audio': [0, 0, 0, 0, 0, 0, 0, 0, 0, 0, 0, 0, 0, 0, 0, 0, 0, 0, 0, 0, 0, 0, 0, 0, 0, 0, 0, 0, 0, 0, 0, 0, 0, 0, 0, 0, 0, 0, 0, 0, 0, 0, 0, 0, 0, 0, 0, 0, 0, 0, 0, 0, 0, 0, 0, 0, 0, 0, 0, 0, 0, 0, 0, 0, 0, 0, 0, 0, 0, 0, 0, 0, 0, 0, 0, 0, 0, 0, 0, 0, 0, 0, 0, 0, 0, 0, 0, 0, 0, 0, 0, 0, 0, 0, 0, 0, 0, 0, 0, 0, 0, 0, 0, 0, 0, 0, 0, 0, 0, 0, 0, 0, 0, 0, 0, 0, 0, 0, 0, 0, 0, 0, 0, 0, 0, 0, 0, 0, 0, 0, 0, 0, 0, 0, 0, 0, 0, 0, 0, 0, 0, 0, 0, 0, 0, 0, 0, 0, 0, 0, 0, 0, 0, 0, 0, 0, 0, 0, 0, 0, 0, 0, 0, 0, 0, 0, 0, 0, 0, 0, 0, 0, 0, 0, 0, 0, 0, 0, 0, 0, 0, 0, 0, 0, 0, 0, 0, 0, 0, 0, 0, 0, 0, 0, 0, 0, 0, 0, 0, 0, 0, 0, 0, 0, 0, 0, 0, 0, 0, 0, 0, 0, 0, 0, 0, 0, 0, 0, 0, 0, 0, 0, 0, 0, 0, 0, 0, 0, 0, 0, 0, 0, 0, 0, 0, 0, 0, 0, 0, 0, 0, 0, 0, 0, 0, 0, 0, 0, 0, 0, 0, 0, 0, 0, 0, 0, 0, 0, 0, 0, 0, 0, 0, 0, 0, 0, 0, 0, 0, 0, 0, 0, 0, 0, 0, 0, 0, 0, 0, 0, 0, 0, 0, 0, 0, 0, 0, 0, 0, 0, 0, 0, 0, 0, 0, 0, 0, 0, 0, 0, 0, 0, 0, 0, 0, 0, 0, 0, 0, 0, 0, 0, 0, 0, 0, 0, 0, 0, 0, 0, 0, 0, 0, 0, 0, 0, 0, 0, 0, 0, 0, 0, 0, 0, 0, 0, 0, 0, 0, 0, 0, 0, 0, 0, 0, 0, 0, 0, 0, 0, 0, 0, 0, 0, 0, 0, 0, 0, 0, 0, 0, 0, 0, 0, 0, 0, 0, 0, 0, 0, 0, 0, 0, 0, 0, 0, 0, 0, 0, 0, 0, 0, 0, 0, 0, 0, 0, 0, 0, 0, 0, 0, 0, 0, 0, 0, 0, 0, 0, 0, 0, 0, 0, 0, 0, 0, 0, 0, 0, 0, 0, 0, 0, 0, 0, 0, 0, 0, 0, 0, 0, 0, 0, 0, 0, 0, 0, 0, 0, 0, 0, 0, 0, 0, 0, 0, 0, 0, 0, 0, 0, 0, 0, 0, 0, 0, 0, 0, 0, 0, 0, 0, 0, 0, 0, 0, 0, 0, 0, 0, 0, 0, 0, 0, 0, 0, 0, 0, 0, 0, 0, 0, 0, 0, 0, 0, 0, 0, 0, 0, 0, 0, 0, 0, 0, 0, 0, 0, 0, 0, 0, 0, 0, 0, 0, 0, 0, 0, 0, 0, 0, 0, 0, 0, 0, 0, 0, 0, 0, 0, 0, 0, 0, 0, 0, 0, 0, 0, 0, 0, 0, 0, 0, 0, 0, 0, 0, 0, 0, 0, 0, 0, 0, 0, 0, 0, 0, 0, 0, 0, 0, 0, 0, 0, 0, 0, 0, 0, 0, 0, 0, 0, 0, 0, 0, 0, 0, 0, 0, 0, 0, 0, 0, 0, 0, 0, 0, 0, 0, 0, 0, 0, 0, 0, 0, 0, 0, 0, 0, 0, 0, 0, 0, 0, 0, 0, 0, 0, 0, 0, 0, 0, 0, 0], u'video': [30, 47, 30, 30, 29, 29, 29, 32, 30, 29, 32, 27, 30, 34, 30, 30, 105, 29, 29, 27, 27, 29, 27, 29, 40, 29, 25, 30, 29, 32, 27, 34, 30, 34, 25, 45, 45, 30, 32, 27, 42, 27, 27, 23, 27, 30, 27, 25, 38, 21, 38, 25, 23, 23, 23, 21, 23, 17, 40, 19, 23, 21, 30, 23, 21, 21, 23, 23, 36, 23, 23, 21, 23, 19, 23, 21, 23, 25, 19, 25, 19, 21, 23, 25, 21, 32, 21, 21, 25, 17, 19, 19, 21, 21, 21, 25, 21, 23, 21, 23, 23, 21, 23, 23, 21, 19, 23, 27, 21, 23, 21, 19, 27, 19, 25, 23, 19, 17, 25, 19, 19, 23, 23, 25, 27, 34, 19, 19, 21, 21, 21, 19, 19, 23, 19, 17, 19, 38, 19, 25, 21, 19, 23, 19, 25, 23, 43, 42, 141, 13, 23, 11, 21, 9, 13, 9, 17, 40, 13, 11, 17, 13, 11, 17, 21, 13, 13, 13, 11, 11, 17, 9, 15, 13, 25, 21, 11, 11, 21, 25, 9, 9, 11, 11, 9, 11, 13, 13, 27, 15, 25, 15, 34, 11, 9, 13, 13, 9, 17, 23, 15, 19, 11, 13, 11, 13, 11, 9, 17, 15, 13, 9, 13, 9, 11, 13, 11, 9, 13, 13, 11, 15, 21, 13, 11, 9, 11, 9, 13, 9, 19, 11, 13, 15, 11, 15, 13, 9, 27, 13, 17, 13, 17, 15, 11, 11, 11, 15, 9, 11, 25, 17, 11, 13, 15, 11, 11, 11, 9, 17, 11, 13, 11, 32, 13, 11, 23, 17, 11, 19, 9, 13, 9, 13, 11, 11, 15, 11, 15, 15, 9, 13, 7, 19, 29, 11, 9, 11, 11, 21, 9, 9, 13, 17, 9, 9, 11, 15, 11, 13, 11, 9, 11, 11, 11, 15, 11, 17, 11, 11, 19, 9, 9, 15, 23, 9, 9, 9, 11, 11, 13, 13, 13, 11, 9, 17, 11, 11, 9, 9, 11, 13, 11, 11, 11, 11, 13, 15, 9, 32, 11, 11, 11, 9, 9, 15, 13, 11, 9, 21, 11, 42, 13, 13, 11, 11, 23, 11, 21, 7, 19, 11, 13, 21, 9, 19, 21, 11, 13, 9, 11, 11, 13, 11, 13, 13, 15, 15, 11, 11, 19, 11, 9, 11, 11, 19, 29, 27, 13, 13, 23, 23, 13, 9, 21, 9, 15, 9, 11, 11, 9, 15, 11, 13, 9, 13, 15, 9, 9, 11, 9, 13, 13, 15, 11, 15, 9, 15, 15, 13, 17, 11, 13, 13, 11, 13, 17, 11, 15, 11, 11, 19, 9, 19, 11, 15, 15, 15, 19, 13, 21, 11, 30, 15, 13, 9, 11, 9, 9, 11, 23, 11, 11, 11, 11, 9, 15, 13, 13, 23, 15, 11, 25, 13, 13, 13, 13, 15, 15, 13, 15, 17, 17, 21, 15, 36, 15, 13, 13, 15, 21, 19, 11, 15, 15, 34, 17, 19, 52, 19, 13, 13, 23, 23, 13, 13, 13, 21, 11, 13, 13, 15, 15, 17, 15, 15, 19, 11, 13, 15, 15, 17, 15, 19, 17, 21, 21, 17, 17, 19, 19, 17, 21, 17, 19, 17, 30, 21, 19, 21, 19, 21, 21, 21, 19, 30, 23, 21, 19, 21, 19, 32, 21, 19, 21, 19, 21, 21, 21, 19, 23, 23, 19, 30, 30, 68, 58, 27, 21, 21, 21, 21, 19, 45, 59, 32, 19, 21, 19, 19, 29, 19, 21, 21, 27, 19, 21, 21, 25, 21, 19, 19, 19, 19, 19, 21, 19, 21, 25, 19, 27, 25, 27, 19]}}\n"
     ]
    }
   ],
   "source": [
    "# pprint(api.livesession(device))\n",
    "alerts = api.alert(device)\n",
    "alert = alerts[0]\n",
    "# pprint(alert)\n",
    "print api.video(device, session=alert['alert'],\n",
    "                starttime=alert['startt']/1000, \n",
    "                endtime=alert['endt']/1000)\n",
    "print api.get(device, alert['startt']/1000)"
   ]
  },
  {
   "cell_type": "code",
   "execution_count": 108,
   "metadata": {
    "collapsed": false
   },
   "outputs": [],
   "source": [
    "stills = api.liststills(device, alert['alert'], \n",
    "               alert['startt']/1000, alert['endt']/1000)"
   ]
  },
  {
   "cell_type": "code",
   "execution_count": 125,
   "metadata": {
    "collapsed": false
   },
   "outputs": [
    {
     "data": {
      "image/jpeg": "[encoded data removed]",
      "text/plain": [
       "<IPython.core.display.Image object>"
      ]
     },
     "execution_count": 125,
     "metadata": {},
     "output_type": "execute_result"
    }
   ],
   "source": [
    "still = stills[0]\n",
    "filename = '/Users/ajmendez/tmp/image.jpg'\n",
    "open(filename, 'w').write(api.getstill(device, still))\n",
    "Image(filename)"
   ]
  },
  {
   "cell_type": "code",
   "execution_count": 84,
   "metadata": {
    "collapsed": false
   },
   "outputs": [
    {
     "name": "stdout",
     "output_type": "stream",
     "text": [
      "[]\n"
     ]
    }
   ],
   "source": [
    "for alert in alerts:\n",
    "    print api.liststills(device, session=alert['alert'],\n",
    "                         starttime=alert['startt'],\n",
    "                         endtime=alert['endt'], iscomplex=False)\n",
    "    break"
   ]
  },
  {
   "cell_type": "code",
   "execution_count": 126,
   "metadata": {
    "collapsed": false
   },
   "outputs": [
    {
     "name": "stdout",
     "output_type": "stream",
     "text": [
      "[]\n"
     ]
    }
   ],
   "source": [
    "for clip in clips:\n",
    "#     print clip['startt'], clip['id'], clip['type'], clip['endt']-clip['startt'], clip['finished']-clip['created'], clip['description']\n",
    "    print api.video(device, clip['startt'], clip['endt'])\n",
    "    break"
   ]
  },
  {
   "cell_type": "code",
   "execution_count": 58,
   "metadata": {
    "collapsed": false
   },
   "outputs": [
    {
     "data": {
      "text/plain": [
       "[]"
      ]
     },
     "execution_count": 58,
     "metadata": {},
     "output_type": "execute_result"
    }
   ],
   "source": [
    "\n",
    "# http://clips.manything.com/clips/xxx/clip.mp4\n",
    "#     http://clips.manything.com/clips/xxx/clip.mp4"
   ]
  },
  {
   "cell_type": "code",
   "execution_count": 72,
   "metadata": {
    "collapsed": true
   },
   "outputs": [],
   "source": [
    "import requests"
   ]
  },
  {
   "cell_type": "code",
   "execution_count": 101,
   "metadata": {
    "collapsed": false
   },
   "outputs": [
    {
     "name": "stdout",
     "output_type": "stream",
     "text": [
      "229446293 229446293\n",
      "\n"
     ]
    }
   ],
   "source": [
    "# application/x-fcs\n",
    "headers = {\n",
    "    'Content-Type':'application/x-fcs',\n",
    "    'Origin':'https://manything.com',\n",
    "    'Referer':'https://manything.com/manything/',\n",
    "    'User-Agent':'Shockwave Flash',\n",
    "    'X-Requested-With':'ShockwaveFlash/20.0.0.228',\n",
    "}\n",
    "response = requests.post('https://{}/open/1'.format(device['wowza']), headers=headers)\n",
    "a=response.content.strip()\n",
    "# response = requests.post('https://{}.manything.com/idle/{}/0'.format(device['wowza'],a), headers=headers)\n",
    "print a, response.content\n",
    "# response = requests.post('https://useast1-wowza-xxx.manything.com/send/1116577027/1')\n",
    "# print response.content"
   ]
  }
 ],
 "metadata": {
  "kernelspec": {
   "display_name": "Python 2",
   "language": "python",
   "name": "python2"
  },
  "language_info": {
   "codemirror_mode": {
    "name": "ipython",
    "version": 2
   },
   "file_extension": ".py",
   "mimetype": "text/x-python",
   "name": "python",
   "nbconvert_exporter": "python",
   "pygments_lexer": "ipython2",
   "version": "2.7.10"
  }
 },
 "nbformat": 4,
 "nbformat_minor": 0
}
